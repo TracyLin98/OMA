{
  "nbformat": 4,
  "nbformat_minor": 0,
  "metadata": {
    "colab": {
      "provenance": [],
      "collapsed_sections": [],
      "mount_file_id": "1-BwjXR69Q3XmfByUujfivTGD3Q3vmX-W",
      "authorship_tag": "ABX9TyOHp2HzmKplLdM+R2eP9xzZ",
      "include_colab_link": true
    },
    "kernelspec": {
      "name": "python3",
      "display_name": "Python 3"
    },
    "language_info": {
      "name": "python"
    }
  },
  "cells": [
    {
      "cell_type": "markdown",
      "metadata": {
        "id": "view-in-github",
        "colab_type": "text"
      },
      "source": [
        "<a href=\"https://colab.research.google.com/github/TracyLin98/OMA/blob/main/OMA.ipynb\" target=\"_parent\"><img src=\"https://colab.research.google.com/assets/colab-badge.svg\" alt=\"Open In Colab\"/></a>"
      ]
    },
    {
      "cell_type": "markdown",
      "source": [
        "**OMA 計算方法**\n",
        "\n",
        "distance越大表示兩個字串相似度越低<br>\n",
        "\n",
        "<a href = https://blog.paperspace.com/implementing-levenshtein-distance-word-autocomplete-autocorrect/>演算法參考<a>"
      ],
      "metadata": {
        "id": "Iil102EzhIXS"
      }
    },
    {
      "cell_type": "code",
      "execution_count": 4,
      "metadata": {
        "colab": {
          "base_uri": "https://localhost:8080/"
        },
        "id": "FKK-W1bDFNbH",
        "outputId": "accd6a8d-81e4-45cf-9f2c-d8f081c9dac7"
      },
      "outputs": [
        {
          "output_type": "stream",
          "name": "stdout",
          "text": [
            "1  預估視線順序: 12345\n",
            "1  使用者視線順序: 12124342154545243\n",
            "1 0.67\n",
            "2  預估視線順序: 12345\n",
            "2  使用者視線順序: 123434345\n",
            "2 0.4\n",
            "3  預估視線順序: 12345\n",
            "3  使用者視線順序: 1243454525\n",
            "3 0.45\n",
            "4  預估視線順序: 12345\n",
            "4  使用者視線順序: 12345\n",
            "4 0.0\n",
            "5  預估視線順序: 12345\n",
            "5  使用者視線順序: 121213454\n",
            "5 0.4\n",
            "6  預估視線順序: 12345\n",
            "6  使用者視線順序: 12345\n",
            "6 0.0\n",
            "7  預估視線順序: 12345\n",
            "7  使用者視線順序: 13143254135\n",
            "7 0.58\n",
            "8  預估視線順序: 12345\n",
            "8  使用者視線順序: 1234345\n",
            "8 0.25\n",
            "9  預估視線順序: 12345\n",
            "9  使用者視線順序: 1234345353535\n",
            "9 0.57\n",
            "10  預估視線順序: 12345\n",
            "10  使用者視線順序: 1413124512343454545\n",
            "10 0.7\n",
            "0.4025974025974026\n"
          ]
        }
      ],
      "source": [
        "from os import pread\n",
        "# -*- coding: utf-8 -*-\n",
        "\"\"\"\n",
        "Created on Mon Aug 15 16:05:43 2022\n",
        "\n",
        "@author: Tracy\n",
        "\"\"\"\n",
        "import numpy as np\n",
        "import pandas as pd\n",
        "import math\n",
        "\n",
        "def mergeSequence(seq):\n",
        "  mergeFs=[]\n",
        "  i=0\n",
        "  mergeFs.append(seq[0])\n",
        "  for j in range(1,len(seq)):\n",
        "      if seq[i]!=seq[j]:\n",
        "        mergeFs.append(seq[j])\n",
        "        i=j\n",
        "      else:\n",
        "        j+=1\n",
        "  mergeFs = ''.join(mergeFs)\n",
        "  return mergeFs\n",
        "\n",
        "def levenshteinDistanceDP(token1, token2):\n",
        "    distances = np.zeros((len(token1) + 1, len(token2) + 1))\n",
        "\n",
        "    for t1 in range(len(token1) + 1):\n",
        "        distances[t1][0] = t1\n",
        "\n",
        "    for t2 in range(len(token2) + 1):\n",
        "        distances[0][t2] = t2\n",
        "        \n",
        "    a = 0\n",
        "    b = 0\n",
        "    c = 0\n",
        "    \n",
        "    for t1 in range(1, len(token1) + 1):\n",
        "        for t2 in range(1, len(token2) + 1):\n",
        "            if (token1[t1-1] == token2[t2-1]):\n",
        "                distances[t1][t2] = distances[t1 - 1][t2 - 1]\n",
        "            else:\n",
        "                a = distances[t1][t2 - 1]\n",
        "                b = distances[t1 - 1][t2]\n",
        "                c = distances[t1 - 1][t2 - 1]\n",
        "                \n",
        "                if (a <= b and a <= c):\n",
        "                    distances[t1][t2] = a + 1\n",
        "                elif (b <= a and b <= c):\n",
        "                    distances[t1][t2] = b + 1\n",
        "                else:\n",
        "                    distances[t1][t2] = c + 1\n",
        "\n",
        "    #printDistances(distances, len(token1), len(token2))\n",
        "    return distances[len(token1)][len(token2)]\n",
        "\n",
        "def printDistances(distances, token1Length, token2Length):\n",
        "    for t1 in range(token1Length + 1):\n",
        "        for t2 in range(token2Length + 1):\n",
        "            print(int(distances[t1][t2]), end=\" \")\n",
        "        print()\n",
        "\n",
        "def printInDigit(word):\n",
        "  transTable = word.maketrans(\"ABCDE\",\"12345\")\n",
        "  word = word.translate(transTable)\n",
        "  return word\n",
        "\n",
        "n=10\n",
        "prefixs = []\n",
        "sequences = []\n",
        "file = open(\"s_1_d.txt\", \"r\")\n",
        "for i in range(0,n):\n",
        "  token1 = file.readline()\n",
        "  prefixs.append(token1)\n",
        "  #print(i,prefixs[i])\n",
        "\n",
        "for i in range(0,n):\n",
        "  token2 = file.readline()\n",
        "  sequences.append(token2)\n",
        "  #print(sequences[i])\n",
        "\n",
        "file.close()\n",
        "\n",
        "sumDis = 0\n",
        "for i in range(0,n):\n",
        "  prefixs[i] = mergeSequence(prefixs[i])\n",
        "  sequences[i] = mergeSequence(sequences[i])\n",
        "  print(i+1,\" 預估視線順序:\",printInDigit(prefixs[i]),end='')\n",
        "  print(i+1,\" 使用者視線順序:\",printInDigit(sequences[i]),end='')\n",
        "  dis = levenshteinDistanceDP(prefixs[i],sequences[i])\n",
        "  sumDis += dis/len(sequences[i])\n",
        "  print(i+1,round(dis/len(sequences[i]),2))\n",
        "#printDistances(distances, len(token1), len(token2))\n",
        "print(sumDis/n)"
      ]
    },
    {
      "cell_type": "code",
      "source": [
        "n=10\n",
        "prefixs = []\n",
        "sequences = []\n",
        "file = open(\"s_2_d.txt\", \"r\")\n",
        "for i in range(0,n):\n",
        "  token1 = file.readline()\n",
        "  prefixs.append(token1)\n",
        "  #print(i,prefixs[i])\n",
        "\n",
        "for i in range(0,n):\n",
        "  token2 = file.readline()\n",
        "  sequences.append(token2)\n",
        "  #print(sequences[i])\n",
        "\n",
        "file.close()\n",
        "\n",
        "sumDis = 0\n",
        "for i in range(0,n):\n",
        "  prefixs[i] = mergeSequence(prefixs[i])\n",
        "  sequences[i] = mergeSequence(sequences[i])\n",
        "  print(i+1,\" 預估視線順序:\",printInDigit(prefixs[i]),end='')\n",
        "  print(i+1,\" 使用者視線順序:\",printInDigit(sequences[i]),end='')\n",
        "  dis = levenshteinDistanceDP(prefixs[i],sequences[i])\n",
        "  sumDis += dis/len(sequences[i])\n",
        "  print(i+1,round(dis/len(sequences[i]),2))\n",
        "#printDistances(distances, len(token1), len(token2))\n",
        "print(sumDis/n)"
      ],
      "metadata": {
        "id": "lTEaSM2WMzZ_",
        "colab": {
          "base_uri": "https://localhost:8080/"
        },
        "outputId": "9220e7f9-6c60-430d-b080-e2d0723f0e0a"
      },
      "execution_count": 2,
      "outputs": [
        {
          "output_type": "stream",
          "name": "stdout",
          "text": [
            "1  預估視線順序: 134125\n",
            "1  使用者視線順序: 13234125\n",
            "1 0.22\n",
            "2  預估視線順序: 134125\n",
            "2  使用者視線順序: 23434125\n",
            "2 0.33\n",
            "3  預估視線順序: 134125\n",
            "3  使用者視線順序: 4341252\n",
            "3 0.25\n",
            "4  預估視線順序: 134125\n",
            "4  使用者視線順序: 13431343412\n",
            "4 0.58\n",
            "5  預估視線順序: 134125\n",
            "5  使用者視線順序: 434125\n",
            "5 0.14\n",
            "6  預估視線順序: 134125\n",
            "6  使用者視線順序: 4341252\n",
            "6 0.25\n",
            "7  預估視線順序: 134125\n",
            "7  使用者視線順序: 134312514\n",
            "7 0.3\n",
            "8  預估視線順序: 134125\n",
            "8  使用者視線順序: 234125\n",
            "8 0.14\n",
            "9  預估視線順序: 134125\n",
            "9  使用者視線順序: 134125\n",
            "9 0.0\n",
            "10  預估視線順序: 134125\n",
            "10  使用者視線順序: 413412412324343251510 0.68\n",
            "0.29088137009189635\n"
          ]
        }
      ]
    },
    {
      "cell_type": "code",
      "source": [
        "n=9\n",
        "prefixs = []\n",
        "sequences = []\n",
        "file = open(\"s_3_d.txt\", \"r\")\n",
        "for i in range(0,n):\n",
        "  token1 = file.readline()\n",
        "  prefixs.append(token1)\n",
        "  #print(i,prefixs[i])\n",
        "\n",
        "for i in range(0,n):\n",
        "  token2 = file.readline()\n",
        "  sequences.append(token2)\n",
        "  #print(sequences[i])\n",
        "file.close()\n",
        "\n",
        "sumDis = 0\n",
        "for i in range(0,n):\n",
        "  prefixs[i] = mergeSequence(prefixs[i])\n",
        "  sequences[i] = mergeSequence(sequences[i])\n",
        "  print(i+1,\" 預估視線順序:\",printInDigit(prefixs[i]),end='')\n",
        "  print(i+1,\" 使用者視線順序:\",printInDigit(sequences[i]),end='')\n",
        "  dis = levenshteinDistanceDP(prefixs[i],sequences[i])\n",
        "  sumDis += dis/len(sequences[i])\n",
        "  print(i+1,round(dis/len(sequences[i]),2))\n",
        "#printDistances(distances, len(token1), len(token2))\n",
        "print(sumDis/n)"
      ],
      "metadata": {
        "colab": {
          "base_uri": "https://localhost:8080/"
        },
        "id": "Wukfr05OhFtK",
        "outputId": "0fef72d7-ec8f-4010-f839-cf67456ec017"
      },
      "execution_count": 3,
      "outputs": [
        {
          "output_type": "stream",
          "name": "stdout",
          "text": [
            "1  預估視線順序: 12345\n",
            "1  使用者視線順序: 142143213421234\n",
            "1 0.69\n",
            "2  預估視線順序: 12345\n",
            "2  使用者視線順序: 123234345\n",
            "2 0.4\n",
            "3  預估視線順序: 12345\n",
            "3  使用者視線順序: 12345\n",
            "3 0.0\n",
            "4  預估視線順序: 12345\n",
            "4  使用者視線順序: 123414\n",
            "4 0.29\n",
            "5  預估視線順序: 12345\n",
            "5  使用者視線順序: 1234545\n",
            "5 0.25\n",
            "6  預估視線順序: 12345\n",
            "6  使用者視線順序: 12345\n",
            "6 0.0\n",
            "7  預估視線順序: 12345\n",
            "7  使用者視線順序: 12345\n",
            "7 0.0\n",
            "8  預估視線順序: 12345\n",
            "8  使用者視線順序: 13452121234341\n",
            "8 0.67\n",
            "9  預估視線順序: 12345\n",
            "9  使用者視線順序: 141231213434345419 0.71\n",
            "0.3328625894802365\n"
          ]
        }
      ]
    },
    {
      "cell_type": "code",
      "source": [
        "# 123為AOI1內的子任務 456為AOI2內的子任務\n",
        "s = \"1234567\"\n",
        "s2 = \"1352467\"\n",
        "s1 = \"4561237\"\n",
        "dis = levenshteinDistanceDP(s1,s)\n",
        "print(dis)\n",
        "dis = levenshteinDistanceDP(s2,s)\n",
        "print(dis)\n"
      ],
      "metadata": {
        "colab": {
          "base_uri": "https://localhost:8080/"
        },
        "id": "e3-ussgLj4tC",
        "outputId": "8eba9566-7f21-4af2-dbf8-2685c0b7d777"
      },
      "execution_count": 3,
      "outputs": [
        {
          "output_type": "stream",
          "name": "stdout",
          "text": [
            "6.0\n",
            "4.0\n"
          ]
        }
      ]
    }
  ]
}